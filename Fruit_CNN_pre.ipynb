{
  "nbformat": 4,
  "nbformat_minor": 0,
  "metadata": {
    "kernelspec": {
      "display_name": "Python 3",
      "language": "python",
      "name": "python3"
    },
    "language_info": {
      "codemirror_mode": {
        "name": "ipython",
        "version": 3
      },
      "file_extension": ".py",
      "mimetype": "text/x-python",
      "name": "python",
      "nbconvert_exporter": "python",
      "pygments_lexer": "ipython3",
      "version": "3.7.6"
    },
    "colab": {
      "name": "Fruit_CNN_pre.ipynb",
      "provenance": []
    }
  },
  "cells": [
    {
      "cell_type": "markdown",
      "metadata": {
        "id": "ed5bpKaqUHMU"
      },
      "source": [
        "# [농업 영상 AI 데이터 활용 아이디어 해커톤 대회](http://k-farmdata.com/hackathon/)\n",
        "NIA와 경상대에서 주최한 AI 해커톤 대회입니다  \n",
        "최우수상을 수상하였고 머신러닝과 딥러닝의 차이점에 대해 명확히 알 수 있었습니다\n"
      ]
    },
    {
      "cell_type": "markdown",
      "metadata": {
        "id": "pbelYileUb0n"
      },
      "source": [
        "[![Open In Colab](https://colab.research.google.com/assets/colab-badge.svg)](https://colab.research.google.com/github/DongChanKIM2/AI-Data-Hackathon-Competiton/blob/main/Fruit_CNN_pre.ipynb)"
      ]
    },
    {
      "cell_type": "markdown",
      "metadata": {
        "id": "AgViz8KsUN0S"
      },
      "source": [
        "# Data preprocessing\n",
        "colab에 제공할 데이터를 image data를 pickle(X, y) 형태로 가공하는 과정<br>\n",
        "작업폴더구조<br>\n",
        "data/[apple_img, apple_label,..., radish_img, radish_label]<br>\n",
        "apple_img/[apple_fuji_L_1-1.png, ...]<br>\n",
        "apple_label/[apple_fuji_L_1-1.json, ...]"
      ]
    },
    {
      "cell_type": "code",
      "metadata": {
        "id": "_JX-LFyEUHMo"
      },
      "source": [
        "import json \n",
        "import glob # 경로명을 이용해 파일 리스트 추출\n",
        "import os # 현재 위치 및 경로 병합\n",
        "import pandas as pd # 데이터\n",
        "from tqdm import tqdm # 실행시간 보여주기\n",
        "import numpy as np # 수학연산\n",
        "import pickle # pickle"
      ],
      "execution_count": null,
      "outputs": []
    },
    {
      "cell_type": "code",
      "metadata": {
        "id": "tpU9U-O8UHMu"
      },
      "source": [
        "# 이미지, plotting 관련\n",
        "import matplotlib.pyplot as plt\n",
        "from skimage.io import imread\n",
        "from skimage.transform import resize"
      ],
      "execution_count": null,
      "outputs": []
    },
    {
      "cell_type": "code",
      "metadata": {
        "id": "xJoq15Z6UHMx"
      },
      "source": [
        "def get_label(filenames):\n",
        "  \"\"\"\n",
        "  각각의 파일명(key)에 대응하는 상품 등급(value)\n",
        "  담은 dictionary 반환\n",
        "  \"\"\" \n",
        "  labels = {}\n",
        "\n",
        "  for f in tqdm(filenames):\n",
        "    with open(f, \"r\", encoding='utf-8') as json_file:\n",
        "      try:\n",
        "        d = json.load(json_file)\n",
        "      except UnicodeDecodeError:\n",
        "        print('Unicode_error')\n",
        "        continue\n",
        "    \n",
        "    file_name = f.split('\\\\')[-1]\n",
        "    file_name = file_name.split('.')[0]\n",
        "    labels[file_name] = d['cate3']\n",
        "  return labels"
      ],
      "execution_count": null,
      "outputs": []
    },
    {
      "cell_type": "code",
      "metadata": {
        "id": "HeSS8vFYUHMy"
      },
      "source": [
        "def get_raw_imgs(img_names):\n",
        "  \"\"\"\n",
        "  파일명을 input, 각각의 이미지를 100x100x3 list로 반환\n",
        "  \"\"\"\n",
        "  imgs = []\n",
        "  for i in img_names:\n",
        "    imgs.append(imread(i))\n",
        "  \n",
        "  return imgs"
      ],
      "execution_count": null,
      "outputs": []
    },
    {
      "cell_type": "code",
      "metadata": {
        "id": "6yMZOvngUHMz"
      },
      "source": [
        "def make_dataset(img_names, labels):\n",
        "  X = []\n",
        "  y = []\n",
        "  fn = []\n",
        "  for img_nm in tqdm(img_names):\n",
        "    try:\n",
        "      img_raw = imread(img_nm)  # 0~255 이미지 데이터\n",
        "      if img_raw.shape[-1] == 4:\n",
        "            img_raw = img_raw[:,:,:-1]\n",
        "    except ValueError:\n",
        "      print('Error about image')\n",
        "      continue\n",
        "        \n",
        "    pure_nm = img_nm.split('\\\\')[-1].split('.')[0]  # 순수한 파일 명(확장자 제외)\n",
        "    # img_raw = resize(img_raw, (100, 100))  # min_max scaling\n",
        "    label = labels.get(pure_nm, 0)\n",
        "    if label:  # label이 0이 아니면\n",
        "      X.append(img_raw)\n",
        "      y.append(label)\n",
        "      fn.append(pure_nm)\n",
        "  \n",
        "  X = np.array(X)\n",
        "  y = np.array(y)\n",
        "  fn = np.array(fn)\n",
        "  return X, y, fn"
      ],
      "execution_count": null,
      "outputs": []
    },
    {
      "cell_type": "code",
      "metadata": {
        "id": "opgbpc2uUHM1"
      },
      "source": [
        "# 총 10가지의 작물 이름\n",
        "all_file_names = glob.glob('data/*')\n",
        "fruit_names = list(set(x.split('\\\\')[-1].split('_')[0] for x in all_file_names))\n",
        "fruit_names.sort()"
      ],
      "execution_count": null,
      "outputs": []
    },
    {
      "cell_type": "code",
      "metadata": {
        "id": "jlIrBBy_UHM2"
      },
      "source": [
        "subclass_dict = {}"
      ],
      "execution_count": null,
      "outputs": []
    },
    {
      "cell_type": "code",
      "metadata": {
        "id": "KUEmAN0pUHM3"
      },
      "source": [
        "for fruit_name in tqdm(fruit_names):\n",
        "\n",
        "    img_names = glob.glob(f'data/{fruit_name}_img/*')\n",
        "    subclass = set([x.split('\\\\')[-1].split('_')[1] for x in img_names])\n",
        "\n",
        "    subclass_dict[fruit_name] = subclass"
      ],
      "execution_count": null,
      "outputs": []
    },
    {
      "cell_type": "code",
      "metadata": {
        "id": "egmrXdscUHM4"
      },
      "source": [
        "subclass_dict['chinese'] = set(['cabbage'])"
      ],
      "execution_count": null,
      "outputs": []
    },
    {
      "cell_type": "code",
      "metadata": {
        "id": "RAqxB2HeUHM5",
        "outputId": "4cfaa48f-8135-492f-844c-37c6e4ccdd97"
      },
      "source": [
        "subclass_dict  # 서브클래스 확인"
      ],
      "execution_count": null,
      "outputs": [
        {
          "output_type": "execute_result",
          "data": {
            "text/plain": [
              "{'apple': {'fuji', 'yanggwang'},\n",
              " 'cabbage': {'green', 'red'},\n",
              " 'chinese': {'cabbage'},\n",
              " 'garlic': {'uiseong'},\n",
              " 'mandarin': {'hallabong', 'onjumilgam'},\n",
              " 'onion': {'red', 'white'},\n",
              " 'pear': {'chuhwang', 'singo'},\n",
              " 'persimmon': {'bansi', 'booyu', 'daebong'},\n",
              " 'potato': {'seolbong', 'sumi'},\n",
              " 'radish': {'winter radish'}}"
            ]
          },
          "metadata": {
            "tags": []
          },
          "execution_count": 35
        }
      ]
    },
    {
      "cell_type": "markdown",
      "metadata": {
        "id": "J3QPWyYuUHM-"
      },
      "source": [
        "## Plotting"
      ]
    },
    {
      "cell_type": "code",
      "metadata": {
        "id": "TNYbk42cUHM_"
      },
      "source": [
        "def get_raw_imgs(img_names):\n",
        "    \"\"\"\n",
        "    파일명을 input, 각각의 이미지를 100x100x3 list로 반환\n",
        "    \"\"\"\n",
        "    imgs = []\n",
        "    for i in img_names:\n",
        "        imgs.append(imread(i))\n",
        "\n",
        "    return imgs"
      ],
      "execution_count": null,
      "outputs": []
    },
    {
      "cell_type": "code",
      "metadata": {
        "id": "EtENeoYpUHNA"
      },
      "source": [
        "def img_plotting(imgs, titles, *args):\n",
        "    \"\"\"\n",
        "    plotting 함수\n",
        "    \"\"\"\n",
        "    plt.figure(figsize=(12, 6))\n",
        "    titles = ['_'.join(x.split('\\\\')[-1].split('_')[:3]) for x in img_locs]\n",
        "    for i in range(args[0]*args[1]):\n",
        "        ax = plt.subplot(args[0], args[1], i + 1)\n",
        "        plt.imshow(imgs[i])\n",
        "        plt.title(titles[i])\n",
        "        plt.axis(\"off\")"
      ],
      "execution_count": null,
      "outputs": []
    },
    {
      "cell_type": "code",
      "metadata": {
        "id": "wbtZJULMUHNB"
      },
      "source": [
        "n = 20\n",
        "np.random.seed(2021)\n",
        "for fruit_name in fruit_names:\n",
        "    for subclass in  subclass_dict[fruit_name]:\n",
        "        img_names = glob.glob(f'data/{fruit_name}_img/*')\n",
        "        if subclass == 'cabbage':\n",
        "            img_locs = np.random.choice(img_names, n, replace=False)\n",
        "        else:\n",
        "            img_locs = np.random.choice([x for x in img_names if x.split('\\\\')[-1].split('_')[1] == subclass],\n",
        "                                n, replace=False)\n",
        "        imgs_info = get_raw_imgs(img_locs)\n",
        "        img_plotting(imgs_info, img_locs, 2, 5)\n",
        "        plt.savefig(f'./{fruit_name}_{subclass}.png')\n"
      ],
      "execution_count": null,
      "outputs": []
    },
    {
      "cell_type": "code",
      "metadata": {
        "id": "zmYRfh_nUHNC"
      },
      "source": [
        "# X, y, filename 을 담고있는 pickle 데이터 저장\n",
        "for fruit_name in fruit_names:\n",
        "    \n",
        "    print(f'process {fruit_name}')\n",
        "    filenames = glob.glob(f'data/{fruit_name}_label/*')\n",
        "    labels = get_label(filenames)\n",
        "    img_names = glob.glob(f'data/{fruit_name}_img/*')\n",
        "\n",
        "    X, y, fn = make_dataset(img_names, labels)\n",
        "\n",
        "    dataset = {'X': X, 'y': y, 'file_name': fn}\n",
        "\n",
        "    with open(f'data_colab/{fruit_name}.pkl', 'wb') as f:\n",
        "        pickle.dump(dataset, f)"
      ],
      "execution_count": null,
      "outputs": []
    }
  ]
}